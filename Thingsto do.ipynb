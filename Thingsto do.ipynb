{
 "cells": [
  {
   "cell_type": "markdown",
   "metadata": {},
   "source": [
    "# TODO\n",
    "\n",
    "* Extract embeddings and train different models (mlp, lightgbm, ridge) --> ensemble\n",
    "* Use distance from category mean to learn embeddings (if competitive score then extract embeddings and repeat above)\n",
    "* Try CNN on base model\n",
    "* Try different tokenization schemes\n",
    "* Manual re subs\n",
    "* Simple models from ground up like Ridge"
   ]
  },
  {
   "cell_type": "markdown",
   "metadata": {},
   "source": [
    "# Observations\n",
    "\n",
    "- Categories could also be tokenized and used as an additional feature\n",
    "- DEPENdency tree for parsing\n",
    "- noun chunkers\n",
    "- Max dimension for categorical -- need to fix as test will contain more -- need to use dictionary with tokenization\n",
    "- Merge duplicate categories and brand names with small variations"
   ]
  },
  {
   "cell_type": "markdown",
   "metadata": {
    "collapsed": true
   },
   "source": [
    "# TODO"
   ]
  },
  {
   "cell_type": "markdown",
   "metadata": {},
   "source": [
    "- fastext word embedding on train data - Ajay\n",
    "- flashtext to impute brand names - Mohsin\n",
    "- high price items features - Mohsin\n",
    "- Tune RNN and CNN - Ajay/Mohsin\n",
    "- Ensemble combinations - Ajay/Mohsin\n",
    "- Memory test code - Ajay\n",
    "- Error catching - Mohsin"
   ]
  }
 ],
 "metadata": {
  "kernelspec": {
   "display_name": "Python 3",
   "language": "python",
   "name": "python3"
  },
  "language_info": {
   "codemirror_mode": {
    "name": "ipython",
    "version": 3
   },
   "file_extension": ".py",
   "mimetype": "text/x-python",
   "name": "python",
   "nbconvert_exporter": "python",
   "pygments_lexer": "ipython3",
   "version": "3.6.3"
  }
 },
 "nbformat": 4,
 "nbformat_minor": 2
}
