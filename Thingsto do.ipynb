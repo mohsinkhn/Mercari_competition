{
 "cells": [
  {
   "cell_type": "markdown",
   "metadata": {},
   "source": [
    "# TODO\n",
    "\n",
    "* Extract embeddings and train different models (mlp, lightgbm, ridge) --> ensemble\n",
    "* Use distance from category mean to learn embeddings (if competitive score then extract embeddings and repeat above)\n",
    "* Try CNN on base model\n",
    "* Try different tokenization schemes\n",
    "* Manual re subs\n",
    "* Simple models from ground up like Ridge"
   ]
  }
 ],
 "metadata": {
  "kernelspec": {
   "display_name": "Python 3",
   "language": "python",
   "name": "python3"
  },
  "language_info": {
   "codemirror_mode": {
    "name": "ipython",
    "version": 3
   },
   "file_extension": ".py",
   "mimetype": "text/x-python",
   "name": "python",
   "nbconvert_exporter": "python",
   "pygments_lexer": "ipython3",
   "version": "3.6.4"
  }
 },
 "nbformat": 4,
 "nbformat_minor": 2
}
